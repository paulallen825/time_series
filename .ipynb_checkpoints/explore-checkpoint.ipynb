{
 "cells": [
  {
   "cell_type": "markdown",
   "metadata": {},
   "source": [
    "# Time Series Data Exploration"
   ]
  },
  {
   "cell_type": "code",
   "execution_count": null,
   "metadata": {},
   "outputs": [],
   "source": [
    "import matplotlib as mpl\n",
    "import matplotlib.pyplot as plt\n",
    "import numpy as np\n",
    "import pandas as pd\n",
    "plt.ion()"
   ]
  },
  {
   "cell_type": "markdown",
   "metadata": {},
   "source": [
    "Plotting defaults:"
   ]
  },
  {
   "cell_type": "code",
   "execution_count": null,
   "metadata": {},
   "outputs": [],
   "source": [
    "#setting sizes \n",
    "plt.rc('figure', figsize=(13, 6))\n",
    "plt.rc('axes.spines', top=False, right=False)\n",
    "plt.rc('font', size=13)"
   ]
  },
  {
   "cell_type": "markdown",
   "metadata": {},
   "source": [
    "Historical San Antonio weather data."
   ]
  },
  {
   "cell_type": "code",
   "execution_count": null,
   "metadata": {},
   "outputs": [],
   "source": [
    "# T(°F) = T(K) × 9/5 - 459.67\n",
    "def to_fahrenheit(k):\n",
    "    return k * 9/5 - 459.67\n",
    "\n",
    "url = \"https://gist.githubusercontent.com/ryanorsinger/0ec766c66f4089bdcbc1d4fb294a3394/raw/197c1f0d7b55a45f29437811bc73d9c4ef8af647/sa_temps.csv\"\n",
    "s = pd.read_csv(url, index_col='datetime', parse_dates=True).temp\n",
    "s = s.dropna()\n",
    "s = to_fahrenheit(s)\n",
    "print('Data ranges from {} to {}'.format(s.index.min(), s.index.max()))\n",
    "s.head()"
   ]
  },
  {
   "cell_type": "markdown",
   "metadata": {},
   "source": [
    "## Train Test Split\n",
    "\n",
    "* Percentage based\n",
    "* Human-based"
   ]
  },
  {
   "cell_type": "code",
   "execution_count": null,
   "metadata": {},
   "outputs": [],
   "source": [
    "train = s.loc[:'2016']\n",
    "test = s.loc['2017']\n",
    "\n",
    "ax = train.plot(label='train')\n",
    "test.plot(ax=ax, label='test')\n",
    "plt.legend()"
   ]
  },
  {
   "cell_type": "code",
   "execution_count": null,
   "metadata": {},
   "outputs": [],
   "source": [
    "# Percentage"
   ]
  },
  {
   "cell_type": "code",
   "execution_count": null,
   "metadata": {},
   "outputs": [],
   "source": [
    "s = train.copy()"
   ]
  },
  {
   "cell_type": "markdown",
   "metadata": {},
   "source": [
    "## How do we visualize time series data?\n",
    "\n",
    "Line plot with time on the x-axis"
   ]
  },
  {
   "cell_type": "code",
   "execution_count": null,
   "metadata": {},
   "outputs": [],
   "source": [
    "s.plot()"
   ]
  },
  {
   "cell_type": "markdown",
   "metadata": {},
   "source": [
    "Re-sampling at a longer frequency \"smooths\" the line"
   ]
  },
  {
   "cell_type": "code",
   "execution_count": null,
   "metadata": {},
   "outputs": [],
   "source": [
    "s.resample('2W').mean().plot()"
   ]
  },
  {
   "cell_type": "markdown",
   "metadata": {},
   "source": [
    "We can combine multiple resampling periods on a single viz:"
   ]
  },
  {
   "cell_type": "code",
   "execution_count": null,
   "metadata": {},
   "outputs": [],
   "source": [
    "ax = s.plot(alpha=.3, label='Hourly')\n",
    "s.resample('D').mean().plot(ax=ax, alpha=.5, label='Daily')\n",
    "s.resample('W').mean().plot(ax=ax, alpha=.8, label='Weekly')\n",
    "s.resample('M').mean().plot(ax=ax, label='Monthly')\n",
    "ax.legend()"
   ]
  },
  {
   "cell_type": "markdown",
   "metadata": {},
   "source": [
    "Treat date components as categorical variables\n",
    "\n",
    "<div style=\"padding: 1em 2em; border: 1px solid navy; border-radius: 5px;\">\n",
    "    <p><strong>Aside: Month and Weekday Ordering</strong></p>\n",
    "    <p>By default, matplotlib/pandas will sort months and weekdays alphabetically, which is usually not what we want.</p>\n",
    "    <p>There are several ways to work around this:</p>\n",
    "    <ul>\n",
    "        <li>Use pandas <a href=\"https://pandas.pydata.org/pandas-docs/stable/user_guide/categorical.html\">category type</a>(<code>pd.Categorical</code>)</li>\n",
    "        <li>Just use the month (1-12) number or weekday number (1-7)</li>\n",
    "        <li>Instead of using just the month or weekday, use a leading number and then the name (e.g. 1-Jan, 2-Feb)</li>\n",
    "        <li>Use a combination of the techniques above, and then re-index the resulting pandas object with more human friendly names</li>\n",
    "        <li>Use a combination of the techniques above, and then manually adjust the labels with matplotlib</li>\n",
    "    </ul>\n",
    "</div>"
   ]
  },
  {
   "cell_type": "code",
   "execution_count": null,
   "metadata": {},
   "outputs": [],
   "source": [
    "# s.groupby(s.index.month).mean().plot.bar()\n",
    "# demonstrating one of the above techniques\n",
    "s.groupby(s.index.strftime('%m-%b')).mean().plot.barh(width=.9, ec='black')"
   ]
  },
  {
   "cell_type": "markdown",
   "metadata": {},
   "source": [
    "Moving Average"
   ]
  },
  {
   "cell_type": "code",
   "execution_count": null,
   "metadata": {},
   "outputs": [],
   "source": [
    "ax = s.resample('D').mean().plot(label='Daily', alpha=.2)\n",
    "s.resample('D').mean().rolling(30).mean().plot(ax=ax, label='30 day moving average')\n",
    "s.resample('M').mean().plot(ax=ax, label='monthly average')\n",
    "ax.legend()"
   ]
  },
  {
   "cell_type": "markdown",
   "metadata": {},
   "source": [
    "**Differences**\n",
    "\n",
    "`.diff` let's us take the difference between the current and previous value."
   ]
  },
  {
   "cell_type": "code",
   "execution_count": null,
   "metadata": {},
   "outputs": [],
   "source": [
    "df = pd.DataFrame(dict(x=[1, 2, 5, 0, 12]))\n",
    "df['x.diff()'] = df.x.diff()\n",
    "df['x.diff(2)'] = df.x.diff(2)\n",
    "df"
   ]
  },
  {
   "cell_type": "markdown",
   "metadata": {},
   "source": [
    "Notice how the first value (or the first 2 in the case of `.diff(2)`) is NaN because there is no previous value to diff against."
   ]
  },
  {
   "cell_type": "markdown",
   "metadata": {},
   "source": [
    "Let's visualize the monthly change in temperature:"
   ]
  },
  {
   "cell_type": "code",
   "execution_count": null,
   "metadata": {},
   "outputs": [],
   "source": [
    "s.resample('M').mean().diff().plot()"
   ]
  },
  {
   "cell_type": "markdown",
   "metadata": {},
   "source": [
    "Note that this looks pretty similar to plotting the monthly average temperature over time. However, note the units on the y-axis. This is now *change* in temperature from one month to the next."
   ]
  },
  {
   "cell_type": "markdown",
   "metadata": {},
   "source": [
    "We could visualize the difference in temperature from each day in the previous year by resampling to the day and using a diff of 365:"
   ]
  },
  {
   "cell_type": "code",
   "execution_count": null,
   "metadata": {},
   "outputs": [],
   "source": [
    "s.resample('D').mean().diff(365).plot()"
   ]
  },
  {
   "cell_type": "markdown",
   "metadata": {},
   "source": [
    "Or we could look at the difference between each month and the same month the previous year by resampling to the month and taking a diff of 12:"
   ]
  },
  {
   "cell_type": "code",
   "execution_count": null,
   "metadata": {},
   "outputs": [],
   "source": [
    "s.resample('M').mean().diff(12).plot()"
   ]
  },
  {
   "cell_type": "markdown",
   "metadata": {},
   "source": [
    "### Shift\n",
    "\n",
    "`.shift` is very similar to `.diff`, but `.shift` moves the values up by a certain amount as opposed to taking the difference:"
   ]
  },
  {
   "cell_type": "code",
   "execution_count": null,
   "metadata": {},
   "outputs": [],
   "source": [
    "df = pd.DataFrame(dict(x=[1, 2, 5, 0, 12]))\n",
    "df['x.shift()'] = df.x.shift()\n",
    "df['x.shift(2)'] = df.x.shift(2)\n",
    "df"
   ]
  },
  {
   "cell_type": "markdown",
   "metadata": {},
   "source": [
    "We could use `.shift` to overlay the temperature for the same month in hte previous year:"
   ]
  },
  {
   "cell_type": "code",
   "execution_count": null,
   "metadata": {},
   "outputs": [],
   "source": [
    "ax = s.resample('M').mean().plot(label='Monthly')\n",
    "s.resample('M').mean().shift(12).plot(label='1 Year Ago', ax=ax)\n",
    "ax.legend()"
   ]
  },
  {
   "cell_type": "markdown",
   "metadata": {},
   "source": [
    "First we resample to the month and then do a shift of 12 to move each data point forward one year."
   ]
  },
  {
   "cell_type": "markdown",
   "metadata": {},
   "source": [
    "#### Customizing Ticks"
   ]
  },
  {
   "cell_type": "markdown",
   "metadata": {},
   "source": [
    "There are a number of ways we can customize datetime axes using matplotlib:"
   ]
  },
  {
   "cell_type": "code",
   "execution_count": null,
   "metadata": {},
   "outputs": [],
   "source": [
    "# Using a major formatter:\n",
    "ax = s.resample('W').mean().plot()\n",
    "ax.xaxis.set_major_formatter(mpl.dates.DateFormatter('%b %y'))"
   ]
  },
  {
   "cell_type": "code",
   "execution_count": null,
   "metadata": {},
   "outputs": [],
   "source": [
    "# Here we include the month number when grouping by month so that the months appear in the correct order in our visualization.\n",
    "ax = s.groupby(s.index.strftime('%m-%B')).mean().plot.bar(width=.9, ec='black', fc='white')\n",
    "# The next two lines basically \"slice off\" the number prefix of the month labels.\n",
    "labels = ax.get_xticklabels()\n",
    "ax.set_xticklabels([l.get_text()[3:] for l in labels])"
   ]
  },
  {
   "cell_type": "markdown",
   "metadata": {},
   "source": [
    "## Identifying Seasonality and Trend\n",
    "\n",
    "- **trend**: long term increase or decrease in the data\n",
    "- **seasonality**: cyclic pattern of a fixed frequency"
   ]
  },
  {
   "cell_type": "markdown",
   "metadata": {},
   "source": [
    "### Seasonality\n",
    "\n",
    "A **lag plot** is a scatter plot of the value at a time against the value at the same time time plus some value, k.\n",
    "\n",
    "For example, we could plot the correlation between the temperature one day and the temperature the next."
   ]
  },
  {
   "cell_type": "code",
   "execution_count": null,
   "metadata": {},
   "outputs": [],
   "source": [
    "# We concatenate the series with itself shifted by 1 and then make a scatter plot of the two columns\n",
    "pd.concat([s.rename('t'), s.shift().rename('t + 1')], axis=1).plot.scatter(y='t + 1', x='t')"
   ]
  },
  {
   "cell_type": "markdown",
   "metadata": {},
   "source": [
    "Each point represents the temperature for one day on the x-axis, and the temperature for the next day on the y-axis.\n",
    "\n",
    "The correlation between each day and the next day is pretty high.\n",
    "\n",
    "Maybe less so for a day and the same day next week."
   ]
  },
  {
   "cell_type": "code",
   "execution_count": null,
   "metadata": {},
   "outputs": [],
   "source": [
    "# note here we are using a pandas built-in to make our lag plot\n",
    "pd.plotting.lag_plot(s.resample('D').mean(), 7)"
   ]
  },
  {
   "cell_type": "code",
   "execution_count": null,
   "metadata": {},
   "outputs": [],
   "source": [
    "# We could also look at weeks instead of days\n",
    "pd.plotting.lag_plot(s.resample('W').mean(), 1)"
   ]
  },
  {
   "cell_type": "markdown",
   "metadata": {},
   "source": [
    "What's the correlation between each day and the same day the next year? Half year?"
   ]
  },
  {
   "cell_type": "code",
   "execution_count": null,
   "metadata": {},
   "outputs": [],
   "source": [
    "pd.plotting.lag_plot(s.resample('D').mean(), 365)"
   ]
  },
  {
   "cell_type": "code",
   "execution_count": null,
   "metadata": {},
   "outputs": [],
   "source": [
    "def autocorrelation(s, lag):\n",
    "    return pd.concat([s, s.shift(lag)], axis=1).dropna().corr().iloc[0, 1]"
   ]
  },
  {
   "cell_type": "code",
   "execution_count": null,
   "metadata": {},
   "outputs": [],
   "source": [
    "autocorrelation(s.resample('D').mean(), 1)"
   ]
  },
  {
   "cell_type": "code",
   "execution_count": null,
   "metadata": {},
   "outputs": [],
   "source": [
    "autocorrelation(s.resample('D').mean(), 2)"
   ]
  },
  {
   "cell_type": "code",
   "execution_count": null,
   "metadata": {},
   "outputs": [],
   "source": [
    "autocorrelation(s.resample('D').mean(), 3)"
   ]
  },
  {
   "cell_type": "markdown",
   "metadata": {},
   "source": [
    "This brings us to the concept of **autocorrelation**. Autocorrelation is a series correlation with itself, at various different lag values."
   ]
  },
  {
   "cell_type": "code",
   "execution_count": null,
   "metadata": {},
   "outputs": [],
   "source": [
    "# Here we construct a series with index being each number from 1 to 365, and the values being the\n",
    "# autocorrelation for that value of lag\n",
    "autocorr = pd.Series({lag: autocorrelation(s.resample('D').mean(), lag) for lag in range(1, 365)})\n",
    "autocorr"
   ]
  },
  {
   "cell_type": "code",
   "execution_count": null,
   "metadata": {},
   "outputs": [],
   "source": [
    "autocorr.plot()"
   ]
  },
  {
   "cell_type": "markdown",
   "metadata": {},
   "source": [
    "This is a common visualization to use to identify seasonality, and pandas has a built in plotting function for it as well:"
   ]
  },
  {
   "cell_type": "code",
   "execution_count": null,
   "metadata": {},
   "outputs": [],
   "source": [
    "pd.plotting.autocorrelation_plot(s.resample('D').mean())"
   ]
  },
  {
   "cell_type": "markdown",
   "metadata": {},
   "source": [
    "Note:\n",
    "\n",
    "- The x axis is the value for laga\n",
    "- The y axis is the correlation for that value of lag\n",
    "- peaks indicate where the seasonal pattern repeats (each year / half year)\n",
    "- decreasing peaks over time mean that correlation between this time this next year is stronger than the correlation between this time 2 years from now\n",
    "- If the peaks fall within the horizontal lines, the observed pattern could be simply random noise. This is clearly **not** the case in the example above."
   ]
  },
  {
   "cell_type": "markdown",
   "metadata": {},
   "source": [
    "Remember, our choice of time units is somewhat arbitrary:"
   ]
  },
  {
   "cell_type": "code",
   "execution_count": null,
   "metadata": {},
   "outputs": [],
   "source": [
    "pd.plotting.autocorrelation_plot(s.resample('W').mean())"
   ]
  },
  {
   "cell_type": "markdown",
   "metadata": {},
   "source": [
    "Notice in this dataset we also have hourly seasonality. Let's take a look at february 2013 as an example:"
   ]
  },
  {
   "cell_type": "code",
   "execution_count": null,
   "metadata": {},
   "outputs": [],
   "source": [
    "hourly = s['2013-02-01':'2013-02-28'].resample('H').mean()\n",
    "hourly.plot()"
   ]
  },
  {
   "cell_type": "markdown",
   "metadata": {},
   "source": [
    "We could view the autocorrelation plot for this hourly data as well:"
   ]
  },
  {
   "cell_type": "code",
   "execution_count": null,
   "metadata": {},
   "outputs": [],
   "source": [
    "pd.plotting.autocorrelation_plot(hourly)"
   ]
  },
  {
   "cell_type": "markdown",
   "metadata": {},
   "source": [
    "### Trend\n",
    "\n",
    "There are several techniques and visualizations we can use to identify the long term upwards or downwards movement, that is, the trend, in our time series data.\n",
    "\n",
    "To iullustrate this we'll use a dataset that we know has a longterm upwards trend:"
   ]
  },
  {
   "cell_type": "code",
   "execution_count": null,
   "metadata": {},
   "outputs": [],
   "source": [
    "url = 'https://raw.githubusercontent.com/jenfly/opsd/master/opsd_germany_daily.csv'\n",
    "df = pd.read_csv(url, index_col='Date', parse_dates=True)\n",
    "s = df.Solar.dropna()\n",
    "s.plot()"
   ]
  },
  {
   "cell_type": "markdown",
   "metadata": {},
   "source": [
    "A **seasonal plot** shows each year as a seperate line:"
   ]
  },
  {
   "cell_type": "code",
   "execution_count": null,
   "metadata": {},
   "outputs": [],
   "source": [
    "s.groupby([s.index.year, s.index.month]).mean().unstack(0).plot()"
   ]
  },
  {
   "cell_type": "markdown",
   "metadata": {},
   "source": [
    "A **seasonal subseries plot** shows the year-over-year trend within each month:"
   ]
  },
  {
   "cell_type": "code",
   "execution_count": null,
   "metadata": {},
   "outputs": [],
   "source": [
    "fig, axs = plt.subplots(1, 12, sharex=True, sharey=True)\n",
    "for ax, (month, x) in zip(axs, s.groupby([s.index.year, s.index.month]).mean().unstack().iteritems()):\n",
    "    x.plot(ax=ax, title=month)\n",
    "fig.tight_layout()\n",
    "fig.subplots_adjust(wspace=0)"
   ]
  },
  {
   "cell_type": "markdown",
   "metadata": {},
   "source": [
    "## Seasonal Decomposition"
   ]
  },
  {
   "cell_type": "code",
   "execution_count": null,
   "metadata": {},
   "outputs": [],
   "source": [
    "import statsmodels.api as sm\n",
    "\n",
    "# reload our sa temps data\n",
    "url = \"https://gist.githubusercontent.com/ryanorsinger/0ec766c66f4089bdcbc1d4fb294a3394/raw/197c1f0d7b55a45f29437811bc73d9c4ef8af647/sa_temps.csv\"\n",
    "s = pd.read_csv(url, index_col='datetime', parse_dates=True).temp\n",
    "s = s.dropna()\n",
    "s = to_fahrenheit(s)\n",
    "s = s.resample('W').mean()"
   ]
  },
  {
   "cell_type": "code",
   "execution_count": null,
   "metadata": {},
   "outputs": [],
   "source": [
    "# using statsmodels\n",
    "result = sm.tsa.seasonal_decompose(s, model='additive')\n",
    "result = pd.DataFrame(dict(\n",
    "    observed=result.observed,\n",
    "    residual=result.resid,\n",
    "    seasonal=result.seasonal,\n",
    "    trend=result.trend\n",
    "))"
   ]
  },
  {
   "cell_type": "code",
   "execution_count": null,
   "metadata": {},
   "outputs": [],
   "source": [
    "gs = plt.GridSpec(3, 1)\n",
    "fig = plt.figure()\n",
    "ax1 = fig.add_subplot(gs[1:])\n",
    "ax2 = fig.add_subplot(gs[0], sharex=ax1, sharey=ax1)\n",
    "result.iloc[:, 1:].plot(ax=ax1, title='seasonal decomposition')\n",
    "result.observed.plot(ax=ax2, title='observed')\n",
    "fig.tight_layout()"
   ]
  },
  {
   "cell_type": "code",
   "execution_count": null,
   "metadata": {},
   "outputs": [],
   "source": [
    "fig, axs = plt.subplots(4, 1, sharex=True, sharey=True)\n",
    "for ax, (col, x) in zip(axs, result.iteritems()):\n",
    "    x.plot(ax=ax, title=col)\n",
    "fig.tight_layout()"
   ]
  },
  {
   "cell_type": "markdown",
   "metadata": {},
   "source": [
    "What do these look like with synthetic data?"
   ]
  },
  {
   "cell_type": "code",
   "execution_count": null,
   "metadata": {},
   "outputs": [],
   "source": [
    "np.random.seed(123)\n",
    "n = 365 * 4\n",
    "idx = pd.date_range('2016', freq='D', periods=n)\n",
    "df = pd.DataFrame({\n",
    "    'trend': np.linspace(0, 2, n),\n",
    "    'seasonal': np.sin(np.linspace(0, 8*np.pi, n)),\n",
    "    'noise': np.random.normal(1, .5, n)\n",
    "}).set_index(idx)\n",
    "df['combined'] = df.trend + df.seasonal + df.noise"
   ]
  },
  {
   "cell_type": "code",
   "execution_count": null,
   "metadata": {},
   "outputs": [],
   "source": [
    "fig, axs = plt.subplots(2, 2, sharex=True, sharey=True)\n",
    "for ax, (col, s) in zip(axs.ravel(), df.iteritems()):\n",
    "    s.plot(ax=ax, title=col)\n",
    "fig.tight_layout()"
   ]
  },
  {
   "cell_type": "markdown",
   "metadata": {},
   "source": [
    "What do our various visuals look like with this data?"
   ]
  }
 ],
 "metadata": {
  "jupytext": {
   "cell_metadata_filter": "-all",
   "main_language": "python",
   "notebook_metadata_filter": "-all"
  },
  "kernelspec": {
   "display_name": "Python 3",
   "language": "python",
   "name": "python3"
  },
  "language_info": {
   "codemirror_mode": {
    "name": "ipython",
    "version": 3
   },
   "file_extension": ".py",
   "mimetype": "text/x-python",
   "name": "python",
   "nbconvert_exporter": "python",
   "pygments_lexer": "ipython3",
   "version": "3.8.8"
  }
 },
 "nbformat": 4,
 "nbformat_minor": 4
}
